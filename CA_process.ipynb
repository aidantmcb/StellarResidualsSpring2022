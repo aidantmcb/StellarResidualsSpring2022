{
 "cells": [
  {
   "cell_type": "code",
   "execution_count": 1,
   "metadata": {},
   "outputs": [],
   "source": [
    "import numpy as np \n",
    "import numpy.ma as ma\n",
    "from astropy.io import fits\n",
    "import matplotlib.pyplot as plt\n",
    "from matplotlib.ticker import FormatStrFormatter\n",
    "import matplotlib.cbook as cbook\n",
    "import matplotlib.colors as colors\n",
    "import datetime\n",
    "\n",
    "from tqdm import tqdm\n",
    "\n",
    "from scipy.interpolate import interp1d\n",
    "\n",
    "\n",
    "\n",
    "import numpy as np\n",
    "import matplotlib.pyplot as plt\n",
    "import matplotlib\n",
    "from astropy.io import fits\n",
    "import glob\n",
    "import pandas as pd\n",
    "from astropy.table import Table, vstack\n",
    "\n",
    "from ResidualUtils import getwavs, getspecpath, getapstarpath\n",
    "\n",
    "\n",
    "\n",
    "matplotlib.rcParams.update({'xtick.labelsize':15,\n",
    "                            'ytick.labelsize':15,\n",
    "                            'axes.titlesize':15,\n",
    "                            'axes.labelsize':15,\n",
    "                            'font.size':15,\n",
    "                            'xtick.top':True,\n",
    "                            'xtick.minor.visible':True,\n",
    "                            'ytick.minor.visible':True,\n",
    "                            'xtick.major.size':4,\n",
    "                            'xtick.minor.size':2,\n",
    "                            'ytick.major.size':4,\n",
    "                            'ytick.minor.size':2,\n",
    "                            'ytick.right':True,\n",
    "                            'xtick.direction':'in',\n",
    "                            'ytick.direction':'in',\n",
    "                            'font.family':'serif',\n",
    "                            'text.usetex': False,\n",
    "                            'pgf.texsystem': 'pdflatex'})\n",
    "# plt.rcParams['pgf.texsystem'] = 'pdflatex'\n",
    "\n",
    "\n",
    "\n",
    "flags = ['BADPIX',\n",
    "'CRPIX',\n",
    "'SATPIX',\n",
    "'UNFIXABLE',\n",
    "'BADDARK',\n",
    "'BADFLAT',\n",
    "'BADERR',\n",
    "'NOSKY',\n",
    "'LITTROW_GHOST',\n",
    "'PERSIST_HIGH',\n",
    "'PERSIST_MED',\n",
    "'PERSIST_LOW',\n",
    "'SIG_SKYLINE',\n",
    "'SIG_TELLURIC']\n",
    "\n",
    "\n",
    "from TolColors import tol_cmap\n",
    "rainbow = tol_cmap('rainbow_PuRd')\n",
    "sunset = tol_cmap('sunset')\n",
    "iridescent = tol_cmap('iridescent')\n",
    "for map in [rainbow, sunset, iridescent]:\n",
    "    map.set_bad('white',1.)"
   ]
  },
  {
   "cell_type": "code",
   "execution_count": 2,
   "metadata": {},
   "outputs": [],
   "source": [
    "# Read in some useful tables:\n",
    "# tabfile = '/uufs/chpc.utah.edu/common/home/sdss/dr17/apogee/spectro/aspcap/dr17/synspec_rev1/allStarLite-dr17-synspec_rev1.fits'\n",
    "tabfile = 'allStarLite-dr17-synspec_rev1.fits'\n",
    "stars = Table.read(tabfile, hdu = 1) # allStarLite base file\n",
    "\n",
    "\n",
    "# select all CA Cloud stars from the allStarLite file\n",
    "CA_fields = ['CA_161-06_btx', 'CA_161-06_btx', 'CA_162-11_btx', 'CA_163-05_btx', 'CA_163-08_btx',\n",
    "             'CA_165-07_btx', 'CA_165-10_btx']\n",
    "CA_inds = np.unique(np.concatenate([np.where(stars['FIELD'] == field)[0] for field in CA_fields]))\n",
    "CA_stars = stars[CA_inds]\n",
    "CA_clean = CA_stars[np.invert(np.logical_or.reduce([np.isnan(CA_stars['TEFF']), np.isnan(CA_stars['LOGG']), \n",
    "                                           np.isnan(CA_stars['M_H'])]))]\n",
    "# for our purposes, requires that all CA cloud stars have TEFF, LOGG, and M_H\n",
    "\n",
    "select_bitmasked = np.where((np.bitwise_and(stars['ASPCAPFLAG'], 23) == 0) | \n",
    "                            (np.bitwise_and(stars['ASPCAPFLAG'], 19) == 0))[0] # perhaps I should also bitmask CA_clean\n",
    "\n",
    "stars = stars[select_bitmasked]\n",
    "stars = stars[np.where((stars['TEFF_ERR'] < 600) & (stars['LOGG_ERR'] < 0.5) & (stars['M_H_ERR'] < 0.3))[0]]\n",
    "stars = stars[np.where(np.abs(stars['GLAT']) > 10)[0]] # clean up the allStarLite data file"
   ]
  },
  {
   "cell_type": "code",
   "execution_count": 3,
   "metadata": {},
   "outputs": [],
   "source": [
    "meta = Table(fits.open('ResidualsFiles/meta_table.fits')[1].data)\n",
    "\n",
    "# if I change the data structure, I'll make an equivalent get_residual function\n",
    "def get_residual(teff, logg, m_h):\n",
    "    rowselect = np.where(np.logical_and.reduce(\n",
    "                    [teff >= meta['teff_low'], teff < meta['teff_high'], \n",
    "                    logg >= meta['logg_low'], logg < meta['logg_high'],\n",
    "                   m_h >= meta['m_h_low'], m_h < meta['m_h_high']]))[0]\n",
    "    if len(rowselect) != 1:\n",
    "        return \n",
    "    \n",
    "    \n",
    "    row = meta[rowselect]\n",
    "    j, k = (row['j_ind'], row['k_ind'])\n",
    "    filename = row['fname'].item()\n",
    "    hdulist = fits.open(filename)\n",
    "    hdulist = np.array(hdulist)[1:].reshape(30,12)\n",
    "    hdu = hdulist[j, k].item()\n",
    "    return hdu # may want to make it return the path"
   ]
  },
  {
   "cell_type": "code",
   "execution_count": 4,
   "metadata": {},
   "outputs": [],
   "source": [
    "# get aspcapStar file path from an allstar table row\n",
    "def get_aspcapStar(row):\n",
    "    specdir = '/uufs/chpc.utah.edu/common/home/sdss/dr17/apogee/spectro/aspcap/dr17/synspec_rev1/{TELESCOPE}/{FIELD}/'\n",
    "    specname = 'aspcapStar-dr17-{SOURCEID}.fits'\n",
    "    telescope = np.array(row['TELESCOPE'], dtype = str)\n",
    "    field = np.array(row['FIELD'], dtype = str)\n",
    "    sourceid = np.array(row['APOGEE_ID'], dtype = str)\n",
    "#     length = len(sourceid)\n",
    "    path = (specdir + specname).format(TELESCOPE = telescope, FIELD = field, SOURCEID = sourceid)\n",
    "    path = '/Users/aidanmcbride/Documents/ISM/Files/aspcap/' + specname.format(SOURCEID = sourceid) # LOCAL MACHINE ONLY\n",
    "    return path\n",
    "\n",
    "# get apStar/asStar file path from an aspcapStar hdulist\n",
    "def get_apStar(hdulist):\n",
    "    specdir = '/uufs/chpc.utah.edu/common/home/sdss/dr17/apogee/spectro/redux/dr17/stars/{TELESCOPE}/{FIELD}/'\n",
    "    telescope = str(hdulist[4].data['TELESCOPE'][0])\n",
    "    field = str(hdulist[4].data['FIELD'][0])\n",
    "    fname = str(hdulist[4].data['FILE'][0])\n",
    "    path = ((specdir + fname).format(TELESCOPE = telescope, FIELD = field))\n",
    "    path = '/Users/aidanmcbride/Documents/ISM/Files/apstar/' + fname # LOCAL MACHINE ONLY\n",
    "    return path\n",
    "\n",
    "# get wavelength array for some aspcapStar/apStar hdulist; if no hdulist given, uses default values\n",
    "# can be rv-corrected from the stellar rest frame to the observed frame\n",
    "def get_wavs(hdulist = None, rv = 0):\n",
    "    if hdulist is None:\n",
    "        CRVAL1 = 4.179\n",
    "        CDELT1 = 6e-06\n",
    "        LEN = 8575\n",
    "    else:\n",
    "        header = hdulist[1].header\n",
    "        CRVAL1 = header['CRVAL1']\n",
    "        CDELT1 = header['CDELT1']\n",
    "        LEN = header['NAXIS1']\n",
    "        \n",
    "    wavs = np.power(10, CRVAL1 + CDELT1 * np.arange(LEN))\n",
    "    wavs = wavs * (1 + rv / 3e5) # allows for shifting to observed frame from rest frame\n",
    "    return wavs \n",
    "\n",
    "# creates a mask from pixel-wise apStar/asStar bitmask\n",
    "def create_mask(bitmask, flags = [0,1,2,3,4,5,6,7,8,9,10,11,12,13,14,15], skipflags = []): \n",
    "    # https://www.sdss.org/dr14/algorithms/bitmasks/#APOGEE_PIXMASK\n",
    "    if type(flags) is not list:\n",
    "        flags = [flags]\n",
    "    if type(skipflags) is not list:\n",
    "        skipflags = [skipflags]\n",
    "\n",
    "    mask = np.zeros(bitmask.shape)\n",
    "    for i in flags:\n",
    "        if i not in skipflags:\n",
    "            mask[np.bitwise_and(bitmask, 2**i) == 2**i] = 1\n",
    "    return mask"
   ]
  },
  {
   "cell_type": "code",
   "execution_count": 5,
   "metadata": {},
   "outputs": [],
   "source": [
    "cols = ['APOGEE_ID', 'TELESCOPE', 'FIELD', 'RA', 'DEC', 'GLON', 'GLAT', 'ASCAP_CHI2',\n",
    "        'J', 'H', 'K', 'VHELIO_AVG', 'GAIAEDR3_PARALLAX', 'TEFF', 'LOGG', 'M_H', 'ALPHA_M']"
   ]
  },
  {
   "cell_type": "code",
   "execution_count": 6,
   "metadata": {},
   "outputs": [
    {
     "name": "stdout",
     "output_type": "stream",
     "text": [
      "-1.3347823405852859\n",
      "23.565107\n"
     ]
    },
    {
     "data": {
      "image/png": "[encoded data removed]",
      "text/plain": [
       "<Figure size 432x288 with 1 Axes>"
      ]
     },
     "metadata": {
      "needs_background": "light"
     },
     "output_type": "display_data"
    }
   ],
   "source": [
    "wavs = getwavs()\n",
    "print(np.mean(CA_clean['VHELIO_AVG']))\n",
    "print(CA_clean['VHELIO_AVG'][0])\n",
    "\n",
    "plt.hist(CA_clean['VHELIO_AVG'])\n",
    "plt.show()\n"
   ]
  },
  {
   "cell_type": "code",
   "execution_count": 7,
   "metadata": {},
   "outputs": [
    {
     "name": "stdout",
     "output_type": "stream",
     "text": [
      "5961.021 4.321162 0.084895\n"
     ]
    },
    {
     "data": {
      "text/plain": [
       "<astropy.io.fits.hdu.image.ImageHDU at 0x7fda03d03310>"
      ]
     },
     "execution_count": 7,
     "metadata": {},
     "output_type": "execute_result"
    }
   ],
   "source": [
    "star = CA_clean[0]\n",
    "print(star['TEFF'], star['LOGG'], star['M_H'])\n",
    "get_residual(star['TEFF'], star['LOGG'], star['M_H'])"
   ]
  },
  {
   "cell_type": "code",
   "execution_count": 26,
   "metadata": {},
   "outputs": [
    {
     "name": "stdout",
     "output_type": "stream",
     "text": [
      "hi it worked\n"
     ]
    },
    {
     "name": "stderr",
     "output_type": "stream",
     "text": [
      "/var/folders/pz/sgyllgv13qnfqwl9zwk1zd380000gn/T/ipykernel_36042/696523404.py:25: RuntimeWarning: invalid value encountered in true_divide\n",
      "  residual_uncorrected = spectrum / model\n",
      "WARNING: VerifyWarning: Keyword name 'APOGEE_ID' is greater than 8 characters or contains characters not allowed by the FITS standard; a HIERARCH card will be created. [astropy.io.fits.card]\n",
      "WARNING: VerifyWarning: Keyword name 'TELESCOPE' is greater than 8 characters or contains characters not allowed by the FITS standard; a HIERARCH card will be created. [astropy.io.fits.card]\n"
     ]
    }
   ],
   "source": [
    "n = len(CA_clean)\n",
    "nbin = np.zeros(n)\n",
    "\n",
    "from os.path import exists\n",
    "\n",
    "wavs = get_wavs()\n",
    "\n",
    "for i in range(len(CA_clean)):\n",
    "    row = CA_clean[i]\n",
    "    apogee_id = row['APOGEE_ID']\n",
    "    telescope = row['TELESCOPE']\n",
    "    field = row['FIELD']\n",
    "    rv = row['VHELIO_AVG']\n",
    "    \n",
    "\n",
    "    aspcap_fname = get_aspcapStar(row)\n",
    "    if not exists(aspcap_fname):\n",
    "        continue\n",
    "    aspcap = fits.open(get_aspcapStar(row))\n",
    "    apstar = fits.open(get_apStar(aspcap))\n",
    "    medres = get_residual(row['TEFF'], row['LOGG'], row['M_H'])\n",
    "    \n",
    "    bitmask = apstar[3].data[0]\n",
    "    \n",
    "    spectrum = aspcap[1].data\n",
    "    model = aspcap[3].data\n",
    "    residual_uncorrected = spectrum / model\n",
    "    \n",
    "    median_residual = medres.data[0]\n",
    "    n_pix = medres.data[6]\n",
    "    residual = residual_uncorrected / median_residual\n",
    "    \n",
    "    data = [residual, median_residual, bitmask, wavs]\n",
    "    data_names = ['stellar residual', 'median residual', 'bitmask', 'wavelength']\n",
    "    \n",
    "    hdu0 = fits.PrimaryHDU()\n",
    "    hdu0.header['APOGEE_ID'] = apogee_id\n",
    "    hdu0.header['TELESCOPE'] = telescope\n",
    "    hdu0.header['FIELD'] = field\n",
    "    \n",
    "    hdulist = fits.HDUList([hdu0])\n",
    "    for j in range(len(data)):\n",
    "        hduj = fits.ImageHDU(data[j])\n",
    "        \n",
    "        hduj.header['NAME'] = data_names[j]\n",
    "        # hduj.header['']\n",
    "        \n",
    "        \n",
    "        hdulist.append(hduj)\n",
    "    print('hi it worked')\n",
    "    # hdulist.write_to('CACloudResiduals/res_{id}.fits'.format(id = apogee_id), overwrite = True)\n",
    "    break"
   ]
  },
  {
   "cell_type": "code",
   "execution_count": 50,
   "metadata": {},
   "outputs": [],
   "source": [
    "wavs = get_wavs()\n",
    "wavs_rv = get_wavs(rv = rv)\n",
    "\n",
    "interp = interp1d(wavs_rv, spectrum, kind = 'slinear', bounds_error = False)\n",
    "\n",
    "spec_interp = interp(wavs)"
   ]
  },
  {
   "cell_type": "code",
   "execution_count": 55,
   "metadata": {},
   "outputs": [
    {
     "data": {
      "image/png": "[encoded data removed]",
      "text/plain": [
       "<Figure size 576x432 with 1 Axes>"
      ]
     },
     "metadata": {
      "needs_background": "light"
     },
     "output_type": "display_data"
    },
    {
     "name": "stdout",
     "output_type": "stream",
     "text": [
      "23.565107\n"
     ]
    }
   ],
   "source": [
    "fig, ax = plt.subplots(figsize = (8,6))\n",
    "# ax.plot(wavs, spectrum)\n",
    "ax.plot(wavs_rv, spectrum)\n",
    "ax.plot(wavs, spec_interp)\n",
    "\n",
    "ax.set_xlim(15300, 15350)\n",
    "plt.show()\n",
    "print(rv)"
   ]
  },
  {
   "cell_type": "code",
   "execution_count": 11,
   "metadata": {},
   "outputs": [],
   "source": [
    "## ASIDE\n",
    "\n",
    "meta = Table(fits.open('ResidualsFiles/meta_table.fits')[1].data)\n",
    "\n",
    "# if I change the data structure, I'll make an equivalent get_residual function\n",
    "def get_residual(teff, logg, m_h):\n",
    "    rowselect = np.where(np.logical_and.reduce(\n",
    "                    [teff >= meta['teff_low'], teff < meta['teff_high'], \n",
    "                    logg >= meta['logg_low'], logg < meta['logg_high'],\n",
    "                   m_h >= meta['m_h_low'], m_h < meta['m_h_high']]))[0]\n",
    "    if len(rowselect) != 1:\n",
    "        return \n",
    "    \n",
    "    row = meta[rowselect]\n",
    "    j, k = (row['j_ind'], row['k_ind'])\n",
    "    filename = row['fname'].item()\n",
    "    hdulist = fits.open(filename)\n",
    "    hdulist = np.array(hdulist)[1:].reshape(30,12)\n",
    "    hdu = hdulist[j, k].item()\n",
    "    return hdu # may want to make it return the path"
   ]
  },
  {
   "cell_type": "code",
   "execution_count": 12,
   "metadata": {},
   "outputs": [
    {
     "data": {
      "text/html": [
       "<div><i>Table length=26640</i>\n",
       "<table id=\"table140575096279152\" class=\"table-striped table-bordered table-condensed\">\n",
       "<thead><tr><th>teff_low</th><th>teff_high</th><th>logg_low</th><th>logg_high</th><th>m_h_low</th><th>m_h_high</th><th>nstars</th><th>res_std_median</th><th>res_std_mean</th><th>fname</th><th>i_ind</th><th>j_ind</th><th>k_ind</th></tr></thead>\n",
       "<thead><tr><th>int64</th><th>int64</th><th>float64</th><th>float64</th><th>float64</th><th>float64</th><th>int64</th><th>float64</th><th>float64</th><th>str47</th><th>int64</th><th>int64</th><th>int64</th></tr></thead>\n",
       "<tr><td>3000</td><td>3050</td><td>-1.0</td><td>-0.8</td><td>-2.3</td><td>-2.0</td><td>0</td><td>nan</td><td>nan</td><td>ResidualsFiles/Residuals_TeffBin3000_3050.fits</td><td>0</td><td>0</td><td>0</td></tr>\n",
       "<tr><td>3000</td><td>3050</td><td>-1.0</td><td>-0.8</td><td>-2.0</td><td>-1.7</td><td>0</td><td>nan</td><td>nan</td><td>ResidualsFiles/Residuals_TeffBin3000_3050.fits</td><td>0</td><td>0</td><td>1</td></tr>\n",
       "<tr><td>3000</td><td>3050</td><td>-1.0</td><td>-0.8</td><td>-1.7</td><td>-1.4</td><td>0</td><td>nan</td><td>nan</td><td>ResidualsFiles/Residuals_TeffBin3000_3050.fits</td><td>0</td><td>0</td><td>2</td></tr>\n",
       "<tr><td>3000</td><td>3050</td><td>-1.0</td><td>-0.8</td><td>-1.4</td><td>-1.1</td><td>0</td><td>nan</td><td>nan</td><td>ResidualsFiles/Residuals_TeffBin3000_3050.fits</td><td>0</td><td>0</td><td>3</td></tr>\n",
       "<tr><td>3000</td><td>3050</td><td>-1.0</td><td>-0.8</td><td>-1.1</td><td>-0.9</td><td>0</td><td>nan</td><td>nan</td><td>ResidualsFiles/Residuals_TeffBin3000_3050.fits</td><td>0</td><td>0</td><td>4</td></tr>\n",
       "<tr><td>3000</td><td>3050</td><td>-1.0</td><td>-0.8</td><td>-0.9</td><td>-0.7</td><td>0</td><td>nan</td><td>nan</td><td>ResidualsFiles/Residuals_TeffBin3000_3050.fits</td><td>0</td><td>0</td><td>5</td></tr>\n",
       "<tr><td>...</td><td>...</td><td>...</td><td>...</td><td>...</td><td>...</td><td>...</td><td>...</td><td>...</td><td>...</td><td>...</td><td>...</td><td>...</td></tr>\n",
       "<tr><td>9950</td><td>10000</td><td>4.8</td><td>5.0</td><td>-0.9</td><td>-0.7</td><td>0</td><td>nan</td><td>nan</td><td>ResidualsFiles/Residuals_TeffBin9950_10000.fits</td><td>73</td><td>29</td><td>5</td></tr>\n",
       "<tr><td>9950</td><td>10000</td><td>4.8</td><td>5.0</td><td>-0.7</td><td>-0.5</td><td>0</td><td>nan</td><td>nan</td><td>ResidualsFiles/Residuals_TeffBin9950_10000.fits</td><td>73</td><td>29</td><td>6</td></tr>\n",
       "<tr><td>9950</td><td>10000</td><td>4.8</td><td>5.0</td><td>-0.5</td><td>-0.3</td><td>0</td><td>nan</td><td>nan</td><td>ResidualsFiles/Residuals_TeffBin9950_10000.fits</td><td>73</td><td>29</td><td>7</td></tr>\n",
       "<tr><td>9950</td><td>10000</td><td>4.8</td><td>5.0</td><td>-0.3</td><td>-0.1</td><td>0</td><td>nan</td><td>nan</td><td>ResidualsFiles/Residuals_TeffBin9950_10000.fits</td><td>73</td><td>29</td><td>8</td></tr>\n",
       "<tr><td>9950</td><td>10000</td><td>4.8</td><td>5.0</td><td>-0.1</td><td>0.1</td><td>0</td><td>nan</td><td>nan</td><td>ResidualsFiles/Residuals_TeffBin9950_10000.fits</td><td>73</td><td>29</td><td>9</td></tr>\n",
       "<tr><td>9950</td><td>10000</td><td>4.8</td><td>5.0</td><td>0.1</td><td>0.3</td><td>0</td><td>nan</td><td>nan</td><td>ResidualsFiles/Residuals_TeffBin9950_10000.fits</td><td>73</td><td>29</td><td>10</td></tr>\n",
       "<tr><td>9950</td><td>10000</td><td>4.8</td><td>5.0</td><td>0.3</td><td>0.5</td><td>0</td><td>nan</td><td>nan</td><td>ResidualsFiles/Residuals_TeffBin9950_10000.fits</td><td>73</td><td>29</td><td>11</td></tr>\n",
       "</table></div>"
      ],
      "text/plain": [
       "<Table length=26640>\n",
       "teff_low teff_high logg_low logg_high ... i_ind j_ind k_ind\n",
       " int64     int64   float64   float64  ... int64 int64 int64\n",
       "-------- --------- -------- --------- ... ----- ----- -----\n",
       "    3000      3050     -1.0      -0.8 ...     0     0     0\n",
       "    3000      3050     -1.0      -0.8 ...     0     0     1\n",
       "    3000      3050     -1.0      -0.8 ...     0     0     2\n",
       "    3000      3050     -1.0      -0.8 ...     0     0     3\n",
       "    3000      3050     -1.0      -0.8 ...     0     0     4\n",
       "    3000      3050     -1.0      -0.8 ...     0     0     5\n",
       "     ...       ...      ...       ... ...   ...   ...   ...\n",
       "    9950     10000      4.8       5.0 ...    73    29     5\n",
       "    9950     10000      4.8       5.0 ...    73    29     6\n",
       "    9950     10000      4.8       5.0 ...    73    29     7\n",
       "    9950     10000      4.8       5.0 ...    73    29     8\n",
       "    9950     10000      4.8       5.0 ...    73    29     9\n",
       "    9950     10000      4.8       5.0 ...    73    29    10\n",
       "    9950     10000      4.8       5.0 ...    73    29    11"
      ]
     },
     "execution_count": 12,
     "metadata": {},
     "output_type": "execute_result"
    }
   ],
   "source": [
    "meta"
   ]
  },
  {
   "cell_type": "code",
   "execution_count": 13,
   "metadata": {},
   "outputs": [],
   "source": [
    "meta_new = Table(fits.open('Residuals/meta.fits')[1].data)\n",
    "\n",
    "\n",
    "# if I change the data structure, I'll make an equivalent get_residual function\n",
    "def get_medres(teff, logg, m_h, dir = 'Residuals/'):\n",
    "    rowselect = np.where(np.logical_and.reduce(\n",
    "                    [teff >= meta_new['TEFF_MIN'], teff < meta_new['TEFF_MAX'], \n",
    "                    logg >= meta_new['LOGG_MIN'], logg < meta_new['LOGG_MAX'],\n",
    "                   m_h >= meta_new['M_H_MIN'], m_h < meta_new['M_H_MAX']]))[0]\n",
    "    if len(rowselect) != 1:\n",
    "        return \n",
    "    \n",
    "    row = meta_new[rowselect]\n",
    "    filename = row['FNAME'].item()\n",
    "    # print(filename)\n",
    "    return dir + filename\n",
    "#     hdulist = fits.open(filename)\n",
    "#     hdulist = np.array(hdulist)[1:].reshape(30,12)\n",
    "#     hdu = hdulist[j, k].item()\n",
    "#     return hdu # may want to make it return the path\n",
    "    "
   ]
  },
  {
   "cell_type": "code",
   "execution_count": 14,
   "metadata": {},
   "outputs": [],
   "source": [
    "res1 = get_residual(star['TEFF'], star['LOGG'], star['M_H'])\n",
    "res2 = fits.open(get_medres(star['TEFF'], star['LOGG'], star['M_H']))"
   ]
  },
  {
   "cell_type": "code",
   "execution_count": null,
   "metadata": {},
   "outputs": [],
   "source": [
    "\n"
   ]
  },
  {
   "cell_type": "code",
   "execution_count": 16,
   "metadata": {},
   "outputs": [
    {
     "data": {
      "text/html": [
       "<div><i>Table length=26640</i>\n",
       "<table id=\"table140574826753520\" class=\"table-striped table-bordered table-condensed\">\n",
       "<thead><tr><th>TEFF_MIN</th><th>TEFF_MAX</th><th>LOGG_MIN</th><th>LOGG_MAX</th><th>M_H_MIN</th><th>M_H_MAX</th><th>NBIN</th><th>STDEV_MEDIAN</th><th>STDEV_MEAN</th><th>FNAME</th></tr></thead>\n",
       "<thead><tr><th>int64</th><th>int64</th><th>float64</th><th>float64</th><th>float64</th><th>float64</th><th>int64</th><th>float64</th><th>float64</th><th>str55</th></tr></thead>\n",
       "<tr><td>7250</td><td>7400</td><td>-1.0</td><td>-0.8</td><td>-2.3</td><td>-2.0</td><td>0</td><td>nan</td><td>nan</td><td>TEFFBIN7250_7400_LOGGBIN-1.0_-0.8_M_HBIN-2.3_-2.0.fits</td></tr>\n",
       "<tr><td>7250</td><td>7400</td><td>-1.0</td><td>-0.8</td><td>-2.0</td><td>-1.7</td><td>0</td><td>nan</td><td>nan</td><td>TEFFBIN7250_7400_LOGGBIN-1.0_-0.8_M_HBIN-2.0_-1.7.fits</td></tr>\n",
       "<tr><td>7250</td><td>7400</td><td>-1.0</td><td>-0.8</td><td>-1.7</td><td>-1.4</td><td>0</td><td>nan</td><td>nan</td><td>TEFFBIN7250_7400_LOGGBIN-1.0_-0.8_M_HBIN-1.7_-1.4.fits</td></tr>\n",
       "<tr><td>7250</td><td>7400</td><td>-1.0</td><td>-0.8</td><td>-1.4</td><td>-1.1</td><td>0</td><td>nan</td><td>nan</td><td>TEFFBIN7250_7400_LOGGBIN-1.0_-0.8_M_HBIN-1.4_-1.1.fits</td></tr>\n",
       "<tr><td>7250</td><td>7400</td><td>-1.0</td><td>-0.8</td><td>-1.1</td><td>-0.9</td><td>0</td><td>nan</td><td>nan</td><td>TEFFBIN7250_7400_LOGGBIN-1.0_-0.8_M_HBIN-1.1_-0.9.fits</td></tr>\n",
       "<tr><td>7250</td><td>7400</td><td>-1.0</td><td>-0.8</td><td>-0.9</td><td>-0.7</td><td>0</td><td>nan</td><td>nan</td><td>TEFFBIN7250_7400_LOGGBIN-1.0_-0.8_M_HBIN-0.9_-0.7.fits</td></tr>\n",
       "<tr><td>...</td><td>...</td><td>...</td><td>...</td><td>...</td><td>...</td><td>...</td><td>...</td><td>...</td><td>...</td></tr>\n",
       "<tr><td>5450</td><td>5600</td><td>4.8</td><td>5.0</td><td>-0.9</td><td>-0.7</td><td>0</td><td>nan</td><td>nan</td><td>TEFFBIN5450_5600_LOGGBIN4.8_5.0_M_HBIN-0.9_-0.7.fits</td></tr>\n",
       "<tr><td>5450</td><td>5600</td><td>4.8</td><td>5.0</td><td>-0.7</td><td>-0.5</td><td>0</td><td>nan</td><td>nan</td><td>TEFFBIN5450_5600_LOGGBIN4.8_5.0_M_HBIN-0.7_-0.5.fits</td></tr>\n",
       "<tr><td>5450</td><td>5600</td><td>4.8</td><td>5.0</td><td>-0.5</td><td>-0.3</td><td>0</td><td>nan</td><td>nan</td><td>TEFFBIN5450_5600_LOGGBIN4.8_5.0_M_HBIN-0.5_-0.3.fits</td></tr>\n",
       "<tr><td>5450</td><td>5600</td><td>4.8</td><td>5.0</td><td>-0.3</td><td>-0.1</td><td>0</td><td>nan</td><td>nan</td><td>TEFFBIN5450_5600_LOGGBIN4.8_5.0_M_HBIN-0.3_-0.1.fits</td></tr>\n",
       "<tr><td>5450</td><td>5600</td><td>4.8</td><td>5.0</td><td>-0.1</td><td>0.1</td><td>0</td><td>nan</td><td>nan</td><td>TEFFBIN5450_5600_LOGGBIN4.8_5.0_M_HBIN-0.1_0.1.fits</td></tr>\n",
       "<tr><td>5450</td><td>5600</td><td>4.8</td><td>5.0</td><td>0.1</td><td>0.3</td><td>0</td><td>nan</td><td>nan</td><td>TEFFBIN5450_5600_LOGGBIN4.8_5.0_M_HBIN0.1_0.3.fits</td></tr>\n",
       "<tr><td>5450</td><td>5600</td><td>4.8</td><td>5.0</td><td>0.3</td><td>0.5</td><td>0</td><td>nan</td><td>nan</td><td>TEFFBIN5450_5600_LOGGBIN4.8_5.0_M_HBIN0.3_0.5.fits</td></tr>\n",
       "</table></div>"
      ],
      "text/plain": [
       "<Table length=26640>\n",
       "TEFF_MIN TEFF_MAX ...                         FNAME                         \n",
       " int64    int64   ...                         str55                         \n",
       "-------- -------- ... ------------------------------------------------------\n",
       "    7250     7400 ... TEFFBIN7250_7400_LOGGBIN-1.0_-0.8_M_HBIN-2.3_-2.0.fits\n",
       "    7250     7400 ... TEFFBIN7250_7400_LOGGBIN-1.0_-0.8_M_HBIN-2.0_-1.7.fits\n",
       "    7250     7400 ... TEFFBIN7250_7400_LOGGBIN-1.0_-0.8_M_HBIN-1.7_-1.4.fits\n",
       "    7250     7400 ... TEFFBIN7250_7400_LOGGBIN-1.0_-0.8_M_HBIN-1.4_-1.1.fits\n",
       "    7250     7400 ... TEFFBIN7250_7400_LOGGBIN-1.0_-0.8_M_HBIN-1.1_-0.9.fits\n",
       "    7250     7400 ... TEFFBIN7250_7400_LOGGBIN-1.0_-0.8_M_HBIN-0.9_-0.7.fits\n",
       "     ...      ... ...                                                    ...\n",
       "    5450     5600 ...   TEFFBIN5450_5600_LOGGBIN4.8_5.0_M_HBIN-0.9_-0.7.fits\n",
       "    5450     5600 ...   TEFFBIN5450_5600_LOGGBIN4.8_5.0_M_HBIN-0.7_-0.5.fits\n",
       "    5450     5600 ...   TEFFBIN5450_5600_LOGGBIN4.8_5.0_M_HBIN-0.5_-0.3.fits\n",
       "    5450     5600 ...   TEFFBIN5450_5600_LOGGBIN4.8_5.0_M_HBIN-0.3_-0.1.fits\n",
       "    5450     5600 ...    TEFFBIN5450_5600_LOGGBIN4.8_5.0_M_HBIN-0.1_0.1.fits\n",
       "    5450     5600 ...     TEFFBIN5450_5600_LOGGBIN4.8_5.0_M_HBIN0.1_0.3.fits\n",
       "    5450     5600 ...     TEFFBIN5450_5600_LOGGBIN4.8_5.0_M_HBIN0.3_0.5.fits"
      ]
     },
     "execution_count": 16,
     "metadata": {},
     "output_type": "execute_result"
    }
   ],
   "source": [
    "meta_new"
   ]
  },
  {
   "cell_type": "code",
   "execution_count": 21,
   "metadata": {},
   "outputs": [
    {
     "data": {
      "image/png": "[encoded data removed]",
      "text/plain": [
       "<Figure size 432x288 with 1 Axes>"
      ]
     },
     "metadata": {
      "needs_background": "light"
     },
     "output_type": "display_data"
    }
   ],
   "source": [
    "plt.scatter(np.arange(len(meta_new)), meta_new['NBIN'], marker= 'o')\n",
    "zero = np.where(meta_new['NBIN'] == 0)[0]\n",
    "notzero = np.where(meta_new['NBIN'] != 0)[0]\n",
    "one = np.where(meta_new['NBIN'] == 1)[0]\n",
    "two = np.where(meta_new['NBIN'] == 2)[0]\n",
    "three = np.where(meta_new['NBIN'] == 3)[0]\n",
    "four = np.where(meta_new['NBIN'] == 4)[0]\n",
    "plt.scatter(np.arange(len(meta_new))[zero], meta_new['NBIN'][zero], marker= 'o')\n",
    "plt.scatter(np.arange(len(meta_new))[one], meta_new['NBIN'][one], marker= 'o')\n",
    "plt.scatter(np.arange(len(meta_new))[two], meta_new['NBIN'][two], marker= 'o')\n",
    "plt.scatter(np.arange(len(meta_new))[three], meta_new['NBIN'][three], marker= 'o')\n",
    "plt.scatter(np.arange(len(meta_new))[four], meta_new['NBIN'][four], marker= 'o')\n",
    "\n",
    "\n",
    "\n",
    "\n",
    "plt.show()"
   ]
  },
  {
   "cell_type": "code",
   "execution_count": null,
   "metadata": {},
   "outputs": [],
   "source": []
  },
  {
   "cell_type": "code",
   "execution_count": null,
   "metadata": {},
   "outputs": [],
   "source": []
  }
 ],
 "metadata": {
  "kernelspec": {
   "display_name": "Python 3 (ipykernel)",
   "language": "python",
   "name": "python3"
  },
  "language_info": {
   "codemirror_mode": {
    "name": "ipython",
    "version": 3
   },
   "file_extension": ".py",
   "mimetype": "text/x-python",
   "name": "python",
   "nbconvert_exporter": "python",
   "pygments_lexer": "ipython3",
   "version": "3.9.7"
  }
 },
 "nbformat": 4,
 "nbformat_minor": 4
}
