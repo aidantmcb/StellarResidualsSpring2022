{
 "cells": [
  {
   "cell_type": "code",
   "execution_count": 38,
   "metadata": {},
   "outputs": [],
   "source": [
    "import numpy as np \n",
    "import numpy.ma as ma\n",
    "from astropy.io import fits\n",
    "import matplotlib.pyplot as plt\n",
    "from matplotlib.ticker import FormatStrFormatter\n",
    "import matplotlib.cbook as cbook\n",
    "import matplotlib.colors as colors\n",
    "import datetime\n",
    "\n",
    "from tqdm import tqdm\n",
    "\n",
    "from scipy.interpolate import interp1d\n",
    "\n",
    "\n",
    "\n",
    "import numpy as np\n",
    "import matplotlib.pyplot as plt\n",
    "import matplotlib\n",
    "from astropy.io import fits\n",
    "import glob\n",
    "import pandas as pd\n",
    "from astropy.table import Table, vstack\n",
    "\n",
    "from ResidualUtils import getwavs, getspecpath, getapstarpath\n",
    "\n",
    "\n",
    "\n",
    "matplotlib.rcParams.update({'xtick.labelsize':15,\n",
    "                            'ytick.labelsize':15,\n",
    "                            'axes.titlesize':15,\n",
    "                            'axes.labelsize':15,\n",
    "                            'font.size':15,\n",
    "                            'xtick.top':True,\n",
    "                            'xtick.minor.visible':True,\n",
    "                            'ytick.minor.visible':True,\n",
    "                            'xtick.major.size':4,\n",
    "                            'xtick.minor.size':2,\n",
    "                            'ytick.major.size':4,\n",
    "                            'ytick.minor.size':2,\n",
    "                            'ytick.right':True,\n",
    "                            'xtick.direction':'in',\n",
    "                            'ytick.direction':'in',\n",
    "                            'font.family':'serif',\n",
    "                            'text.usetex': False,\n",
    "                            'pgf.texsystem': 'pdflatex'})\n",
    "# plt.rcParams['pgf.texsystem'] = 'pdflatex'\n",
    "\n",
    "\n",
    "\n",
    "flags = ['BADPIX',\n",
    "'CRPIX',\n",
    "'SATPIX',\n",
    "'UNFIXABLE',\n",
    "'BADDARK',\n",
    "'BADFLAT',\n",
    "'BADERR',\n",
    "'NOSKY',\n",
    "'LITTROW_GHOST',\n",
    "'PERSIST_HIGH',\n",
    "'PERSIST_MED',\n",
    "'PERSIST_LOW',\n",
    "'SIG_SKYLINE',\n",
    "'SIG_TELLURIC']\n",
    "\n",
    "\n",
    "from TolColors import tol_cmap\n",
    "rainbow = tol_cmap('rainbow_PuRd')\n",
    "sunset = tol_cmap('sunset')\n",
    "iridescent = tol_cmap('iridescent')\n",
    "for map in [rainbow, sunset, iridescent]:\n",
    "    map.set_bad('white',1.)"
   ]
  },
  {
   "cell_type": "code",
   "execution_count": 2,
   "metadata": {},
   "outputs": [
    {
     "name": "stderr",
     "output_type": "stream",
     "text": [
      "/uufs/chpc.utah.edu/sys/installdir/python/3.6.3/lib/python3.6/site-packages/astropy/table/column.py:1020: RuntimeWarning: invalid value encountered in less\n",
      "  result = getattr(super(), op)(other)\n"
     ]
    }
   ],
   "source": [
    "# Read in some useful tables:\n",
    "tabfile = '/uufs/chpc.utah.edu/common/home/sdss/dr17/apogee/spectro/aspcap/dr17/synspec_rev1/allStarLite-dr17-synspec_rev1.fits'\n",
    "stars = Table.read(tabfile, hdu = 1) # allStarLite base file\n",
    "\n",
    "\n",
    "# select all CA Cloud stars from the allStarLite file\n",
    "CA_fields = ['CA_161-06_btx', 'CA_161-06_btx', 'CA_162-11_btx', 'CA_163-05_btx', 'CA_163-08_btx',\n",
    "             'CA_165-07_btx', 'CA_165-10_btx']\n",
    "CA_inds = np.unique(np.concatenate([np.where(stars['FIELD'] == field)[0] for field in CA_fields]))\n",
    "CA_stars = stars[CA_inds]\n",
    "CA_clean = CA_stars[np.invert(np.logical_or.reduce([np.isnan(CA_stars['TEFF']), np.isnan(CA_stars['LOGG']), \n",
    "                                           np.isnan(CA_stars['M_H'])]))]\n",
    "# for our purposes, requires that all CA cloud stars have TEFF, LOGG, and M_H\n",
    "\n",
    "select_bitmasked = np.where((np.bitwise_and(stars['ASPCAPFLAG'], 23) == 0) | \n",
    "                            (np.bitwise_and(stars['ASPCAPFLAG'], 19) == 0))[0] # perhaps I should also bitmask CA_clean\n",
    "\n",
    "stars = stars[select_bitmasked]\n",
    "stars = stars[np.where((stars['TEFF_ERR'] < 600) & (stars['LOGG_ERR'] < 0.5) & (stars['M_H_ERR'] < 0.3))[0]]\n",
    "stars = stars[np.where(np.abs(stars['GLAT']) > 10)[0]] # clean up the allStarLite data file"
   ]
  },
  {
   "cell_type": "code",
   "execution_count": 22,
   "metadata": {},
   "outputs": [],
   "source": [
    "meta = Table(fits.open('ResidualsFiles/meta_table.fits')[1].data)\n",
    "\n",
    "# if I change the data structure, I'll make an equivalent get_residual function\n",
    "def get_medres(teff, logg, m_h):\n",
    "    rowselect = np.where(np.logical_and.reduce(\n",
    "                    [teff >= meta['teff_low'], teff < meta['teff_high'], \n",
    "                    logg >= meta['logg_low'], logg < meta['logg_high'],\n",
    "                   m_h >= meta['m_h_low'], m_h < meta['m_h_high']]))[0]\n",
    "    if len(rowselect) != 1:\n",
    "        return \n",
    "    \n",
    "    \n",
    "    row = meta[rowselect]\n",
    "    j, k = (row['j_ind'], row['k_ind'])\n",
    "    filename = row['fname'].item()\n",
    "    hdulist = fits.open(filename)\n",
    "    hdulist = np.array(hdulist)[1:].reshape(30,12)\n",
    "    hdu = hdulist[j, k].item()\n",
    "    return hdu # may want to make it return the path"
   ]
  },
  {
   "cell_type": "code",
   "execution_count": 24,
   "metadata": {},
   "outputs": [],
   "source": [
    "# get aspcapStar file path from an allstar table row\n",
    "def get_aspcapStar(row):\n",
    "    specdir = '/uufs/chpc.utah.edu/common/home/sdss/dr17/apogee/spectro/aspcap/dr17/synspec_rev1/{TELESCOPE}/{FIELD}/'\n",
    "    specname = 'aspcapStar-dr17-{SOURCEID}.fits'\n",
    "    telescope = np.array(row['TELESCOPE'], dtype = str)\n",
    "    field = np.array(row['FIELD'], dtype = str)\n",
    "    sourceid = np.array(row['APOGEE_ID'], dtype = str)\n",
    "#     length = len(sourceid)\n",
    "    path = (specdir + specname).format(TELESCOPE = telescope, FIELD = field, SOURCEID = sourceid)\n",
    "    return path\n",
    "\n",
    "# get apStar/asStar file path from an aspcapStar hdulist\n",
    "def get_apStar(hdulist):\n",
    "    specdir = '/uufs/chpc.utah.edu/common/home/sdss/dr17/apogee/spectro/redux/dr17/stars/{TELESCOPE}/{FIELD}/'\n",
    "    telescope = str(hdulist[4].data['TELESCOPE'][0])\n",
    "    field = str(hdulist[4].data['FIELD'][0])\n",
    "    fname = str(hdulist[4].data['FILE'][0])\n",
    "    path = ((specdir + fname).format(TELESCOPE = telescope, FIELD = field))\n",
    "    return path\n",
    "\n",
    "# get wavelength array for some aspcapStar/apStar hdulist; if no hdulist given, uses default values\n",
    "# can be rv-corrected from the stellar rest frame to the observed frame\n",
    "def get_wavs(hdulist = None, rv = 0):\n",
    "    if hdulist is None:\n",
    "        CRVAL1 = 4.179\n",
    "        CDELT1 = 6e-06\n",
    "        LEN = 8575\n",
    "    else:\n",
    "        header = hdulist[1].header\n",
    "        CRVAL1 = header['CRVAL1']\n",
    "        CDELT1 = header['CDELT1']\n",
    "        LEN = header['NAXIS1']\n",
    "        \n",
    "    wavs = np.power(10, CRVAL1 + CDELT1 * np.arange(LEN))\n",
    "    wavs = wavs * (1 + rv / 3e5) # allows for shifting to observed frame from rest frame\n",
    "    return wavs \n",
    "\n",
    "# creates a mask from pixel-wise apStar/asStar bitmask\n",
    "def create_mask(bitmask, flags = [0,1,2,3,4,5,6,7,8,9,10,11,12,13,14,15], skipflags = []): \n",
    "    # https://www.sdss.org/dr14/algorithms/bitmasks/#APOGEE_PIXMASK\n",
    "    if type(flags) is not list:\n",
    "        flags = [flags]\n",
    "    if type(skipflags) is not list:\n",
    "        skipflags = [skipflags]\n",
    "\n",
    "    mask = np.zeros(bitmask.shape)\n",
    "    for i in flags:\n",
    "        if i not in skipflags:\n",
    "            mask[np.bitwise_and(bitmask, 2**i) == 2**i] = 1\n",
    "    return mask"
   ]
  },
  {
   "cell_type": "code",
   "execution_count": 25,
   "metadata": {},
   "outputs": [],
   "source": [
    "cols = ['APOGEE_ID', 'TELESCOPE', 'FIELD', 'RA', 'DEC', 'GLON', 'GLAT', \n",
    "        'J', 'H', 'K', 'VHELIO_AVG', 'GAIAEDR3_PARALLAX', 'TEFF', 'LOGG', 'M_H', 'ALPHA_M']"
   ]
  },
  {
   "cell_type": "code",
   "execution_count": 36,
   "metadata": {},
   "outputs": [
    {
     "name": "stdout",
     "output_type": "stream",
     "text": [
      "-1.3347824\n",
      "23.565107\n"
     ]
    },
    {
     "data": {
      "image/png": "[encoded data removed]",
      "text/plain": [
       "<Figure size 432x288 with 1 Axes>"
      ]
     },
     "metadata": {},
     "output_type": "display_data"
    }
   ],
   "source": [
    "wavs = getwavs()\n",
    "print(np.mean(CA_clean['VHELIO_AVG']))\n",
    "print(CA_clean['VHELIO_AVG'][0])\n",
    "\n",
    "plt.hist(CA_clean['VHELIO_AVG'])\n",
    "plt.show()\n"
   ]
  },
  {
   "cell_type": "code",
   "execution_count": 32,
   "metadata": {},
   "outputs": [
    {
     "name": "stderr",
     "output_type": "stream",
     "text": [
      "/uufs/chpc.utah.edu/sys/installdir/python/3.6.3/lib/python3.6/site-packages/ipykernel_launcher.py:14: RuntimeWarning: invalid value encountered in true_divide\n",
      "  \n"
     ]
    }
   ],
   "source": [
    "n = len(CA_clean)\n",
    "nbin = np.zeros(n)\n",
    "\n",
    "\n",
    "for i in range(len(CA_clean)):\n",
    "    row = CA_clean[i]\n",
    "    aspcap = fits.open(get_aspcapStar(row))\n",
    "    apstar = fits.open(get_apStar(aspcap))\n",
    "    medres = get_medres(row['TEFF'], row['LOGG'], row['M_H'])\n",
    "    \n",
    "    bitmask = apstar[3].data[0]\n",
    "    \n",
    "    spectrum = aspcap[1].data\n",
    "    model = aspcap[3].data\n",
    "    residual_uncorrected = spectrum / model\n",
    "    \n",
    "    median_residual = medres.data[0]\n",
    "    residual = residual_uncorrected / median_residual\n",
    "    \n",
    "    \n",
    "    \n",
    "    break"
   ]
  },
  {
   "cell_type": "code",
   "execution_count": null,
   "metadata": {},
   "outputs": [],
   "source": []
  },
  {
   "cell_type": "code",
   "execution_count": null,
   "metadata": {},
   "outputs": [],
   "source": []
  }
 ],
 "metadata": {
  "kernelspec": {
   "display_name": "Python 3",
   "language": "python",
   "name": "python3"
  },
  "language_info": {
   "codemirror_mode": {
    "name": "ipython",
    "version": 3
   },
   "file_extension": ".py",
   "mimetype": "text/x-python",
   "name": "python",
   "nbconvert_exporter": "python",
   "pygments_lexer": "ipython3",
   "version": "3.6.3"
  }
 },
 "nbformat": 4,
 "nbformat_minor": 2
}
