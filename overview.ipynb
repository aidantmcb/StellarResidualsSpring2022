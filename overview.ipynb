{
 "cells": [
  {
   "cell_type": "code",
   "execution_count": 1,
   "metadata": {},
   "outputs": [],
   "source": [
    "import numpy as np \n",
    "import numpy.ma as ma\n",
    "\n",
    "import matplotlib.pyplot as plt\n",
    "import matplotlib.colors as colors\n",
    "import matplotlib\n",
    "\n",
    "import datetime\n",
    "from tqdm import tqdm\n",
    "\n",
    "from astropy.stats import sigma_clip\n",
    "from astropy.io import fits\n",
    "from astropy.table import Table\n",
    "\n",
    "from ResidualUtils import getwavs, getspecpath, getapstarpath, create_mask, get_selected_stars, get_residual, get_selected_stars"
   ]
  },
  {
   "cell_type": "markdown",
   "metadata": {},
   "source": [
    "# Overview\n",
    "To study the spectral features of the ISM in observed spectra, we need a reliable characterization of the spectral features of those background objects. We've produced a catalog of the median stellar residuals between APOGEE spectra and their corresponding ASPCAP fits, which can serve as a model of their typical deviations.\n",
    "\n",
    "To produce our catalog, we grouped `ASPCAPSTAR` spectra by `TEFF`, `LOGG`, and `M_H` using the binning scheme described in [Ashok et al. 2021](https://doi.org/10.3847/1538-3881/abd7f1). After applying `APSTAR/ASSTAR` bitmasks and our own supplementary masks to remove pixels with high uncertainties, we calculate the median residual \n",
    "$$\\langle R\\rangle = \\text{median}(F_\\lambda / F_{\\lambda}')$$\n",
    "for $F_\\lambda$ the combined stellar spectrum and $F_{\\lambda}'$ the corresponding ASPCAP model.\n",
    "\n"
   ]
  },
  {
   "cell_type": "code",
   "execution_count": 2,
   "metadata": {},
   "outputs": [
    {
     "name": "stderr",
     "output_type": "stream",
     "text": [
      "/uufs/chpc.utah.edu/sys/installdir/python/3.6.3/lib/python3.6/site-packages/astropy/table/column.py:1020: RuntimeWarning: invalid value encountered in less\n",
      "  result = getattr(super(), op)(other)\n"
     ]
    }
   ],
   "source": [
    "tabfile = '/uufs/chpc.utah.edu/common/home/sdss/dr17/apogee/spectro/aspcap/dr17/synspec_rev1/allStarLite-dr17-synspec_rev1.fits'\n",
    "stars = Table.read(tabfile, hdu = 1)\n",
    "\n",
    "CA_fields = ['CA_161-06_btx', 'CA_161-06_btx', 'CA_162-11_btx', 'CA_163-05_btx', 'CA_163-08_btx',\n",
    "             'CA_165-07_btx', 'CA_165-10_btx']\n",
    "CA_inds = np.unique(np.concatenate([np.where(stars['FIELD'] == field)[0] for field in CA_fields]))\n",
    "CA_stars = stars[CA_inds]\n",
    "CA_clean = CA_stars[np.invert(np.logical_or.reduce([np.isnan(CA_stars['TEFF']), np.isnan(CA_stars['LOGG']), \n",
    "                                           np.isnan(CA_stars['M_H'])]))]\n",
    "\n",
    "select_bitmasked = np.where((np.bitwise_and(stars['ASPCAPFLAG'], 23) == 0) | \n",
    "                            (np.bitwise_and(stars['ASPCAPFLAG'], 19) == 0))[0] # perhaps I should also bitmask CA_clean\n",
    "\n",
    "stars = stars[select_bitmasked]\n",
    "stars = stars[np.where((stars['TEFF_ERR'] < 600) & (stars['LOGG_ERR'] < 0.5) & (stars['M_H_ERR'] < 0.3))[0]]\n",
    "stars = stars[np.where(np.abs(stars['GLAT']) > 10)[0]]"
   ]
  },
  {
   "cell_type": "code",
   "execution_count": null,
   "metadata": {},
   "outputs": [],
   "source": []
  }
 ],
 "metadata": {
  "kernelspec": {
   "display_name": "Python 3",
   "language": "python",
   "name": "python3"
  },
  "language_info": {
   "codemirror_mode": {
    "name": "ipython",
    "version": 3
   },
   "file_extension": ".py",
   "mimetype": "text/x-python",
   "name": "python",
   "nbconvert_exporter": "python",
   "pygments_lexer": "ipython3",
   "version": "3.6.3"
  }
 },
 "nbformat": 4,
 "nbformat_minor": 2
}
