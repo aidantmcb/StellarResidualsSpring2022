{
 "cells": [
  {
   "cell_type": "code",
   "execution_count": 2,
   "metadata": {},
   "outputs": [],
   "source": [
    "import numpy as np \n",
    "import numpy.ma as ma\n",
    "from astropy.io import fits\n",
    "import matplotlib.pyplot as plt\n",
    "from matplotlib.ticker import FormatStrFormatter\n",
    "import matplotlib.cbook as cbook\n",
    "import matplotlib.colors as colors\n",
    "import datetime\n",
    "\n",
    "from tqdm import tqdm\n",
    "\n",
    "\n",
    "from astropy.stats import sigma_clip\n",
    "\n",
    "\n",
    "import numpy as np\n",
    "import matplotlib.pyplot as plt\n",
    "import matplotlib\n",
    "from astropy.io import fits\n",
    "import glob\n",
    "import pandas as pd\n",
    "from astropy.table import Table\n",
    "\n",
    "from ResidualUtils import getwavs, getspecpath, getapstarpath, create_mask#, getspecpath\n",
    "\n",
    "\n",
    "\n",
    "matplotlib.rcParams.update({'xtick.labelsize':18,\n",
    "                            'ytick.labelsize':18,\n",
    "                            'axes.titlesize':18,\n",
    "                            'axes.labelsize':18,\n",
    "                            'font.size':18,\n",
    "                            'xtick.top':True,\n",
    "                            'xtick.minor.visible':True,\n",
    "                            'ytick.minor.visible':True,\n",
    "                            'xtick.major.size':4,\n",
    "                            'xtick.minor.size':2,\n",
    "                            'ytick.major.size':4,\n",
    "                            'ytick.minor.size':2,\n",
    "                            'ytick.right':True,\n",
    "                            'xtick.direction':'in',\n",
    "                            'ytick.direction':'in',\n",
    "                            'font.family':'serif',\n",
    "                            'text.usetex': False,\n",
    "                            'pgf.texsystem': 'pdflatex'})\n",
    "# plt.rcParams['pgf.texsystem'] = 'pdflatex'\n",
    "\n",
    "\n",
    "\n",
    "flags = ['BADPIX',\n",
    "'CRPIX',\n",
    "'SATPIX',\n",
    "'UNFIXABLE',\n",
    "'BADDARK',\n",
    "'BADFLAT',\n",
    "'BADERR',\n",
    "'NOSKY',\n",
    "'LITTROW_GHOST',\n",
    "'PERSIST_HIGH',\n",
    "'PERSIST_MED',\n",
    "'PERSIST_LOW',\n",
    "'SIG_SKYLINE',\n",
    "'SIG_TELLURIC']\n",
    "\n",
    "\n",
    "from TolColors import tol_cmap\n",
    "rainbow = tol_cmap('rainbow_PuRd')\n",
    "sunset = tol_cmap('sunset')\n",
    "iridescent = tol_cmap('iridescent')\n",
    "for map in [rainbow, sunset, iridescent]:\n",
    "    map.set_bad('white',1.)"
   ]
  },
  {
   "cell_type": "code",
   "execution_count": 3,
   "metadata": {},
   "outputs": [
    {
     "name": "stderr",
     "output_type": "stream",
     "text": [
      "/uufs/chpc.utah.edu/sys/installdir/python/3.6.3/lib/python3.6/site-packages/astropy/table/column.py:1020: RuntimeWarning: invalid value encountered in less\n",
      "  result = getattr(super(), op)(other)\n"
     ]
    }
   ],
   "source": [
    "tabfile = '/uufs/chpc.utah.edu/common/home/sdss/dr17/apogee/spectro/aspcap/dr17/synspec_rev1/allStarLite-dr17-synspec_rev1.fits'\n",
    "stars = Table.read(tabfile, hdu = 1)\n",
    "\n",
    "CA_fields = ['CA_161-06_btx', 'CA_161-06_btx', 'CA_162-11_btx', 'CA_163-05_btx', 'CA_163-08_btx',\n",
    "             'CA_165-07_btx', 'CA_165-10_btx']\n",
    "CA_inds = np.unique(np.concatenate([np.where(stars['FIELD'] == field)[0] for field in CA_fields]))\n",
    "CA_stars = stars[CA_inds]\n",
    "CA_clean = CA_stars[np.invert(np.logical_or.reduce([np.isnan(CA_stars['TEFF']), np.isnan(CA_stars['LOGG']), \n",
    "                                           np.isnan(CA_stars['M_H'])]))]\n",
    "\n",
    "select_bitmasked = np.where((np.bitwise_and(stars['ASPCAPFLAG'], 23) == 0) | \n",
    "                            (np.bitwise_and(stars['ASPCAPFLAG'], 19) == 0))[0] # perhaps I should also bitmask CA_clean\n",
    "\n",
    "stars = stars[select_bitmasked]\n",
    "stars = stars[np.where((stars['TEFF_ERR'] < 600) & (stars['LOGG_ERR'] < 0.5) & (stars['M_H_ERR'] < 0.3))[0]]\n",
    "stars = stars[np.where(np.abs(stars['GLAT']) > 10)[0]]"
   ]
  },
  {
   "cell_type": "code",
   "execution_count": null,
   "metadata": {},
   "outputs": [],
   "source": [
    "meta = Table(fits.open('ResidualsFiles/meta_table.fits')[1].data)"
   ]
  }
 ],
 "metadata": {
  "kernelspec": {
   "display_name": "Python 3",
   "language": "python",
   "name": "python3"
  },
  "language_info": {
   "codemirror_mode": {
    "name": "ipython",
    "version": 3
   },
   "file_extension": ".py",
   "mimetype": "text/x-python",
   "name": "python",
   "nbconvert_exporter": "python",
   "pygments_lexer": "ipython3",
   "version": "3.6.3"
  }
 },
 "nbformat": 4,
 "nbformat_minor": 2
}
